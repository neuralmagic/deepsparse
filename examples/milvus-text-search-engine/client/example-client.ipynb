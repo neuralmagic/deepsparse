{
 "cells": [
  {
   "cell_type": "markdown",
   "id": "72ce5274",
   "metadata": {},
   "source": [
    "# **DeepSparse-Milvus Semantic Search Client**\n",
    "\n",
    "This notebook demonstrates how to interact with the Semantic Search application over HTTP."
   ]
  },
  {
   "cell_type": "code",
   "execution_count": 4,
   "id": "d7251e09",
   "metadata": {},
   "outputs": [],
   "source": [
    "import requests\n",
    "\n",
    "# if running on localhost\n",
    "# base_url = \"localhost\"\n",
    "\n",
    "# if running on AWS - add your app servers' public IP\n",
    "base_url = \"34.227.11.121\""
   ]
  },
  {
   "cell_type": "markdown",
   "id": "dcc16555",
   "metadata": {},
   "source": [
    "### **Drop Existing Data**\n",
    "\n",
    "`/drop` route used to drop existing colleciton if it exists."
   ]
  },
  {
   "cell_type": "code",
   "execution_count": 5,
   "id": "026f4da3",
   "metadata": {},
   "outputs": [
    {
     "name": "stdout",
     "output_type": "stream",
     "text": [
      "\"Collection does not exist\"\n"
     ]
    }
   ],
   "source": [
    "# /drop path drops the collection\n",
    "url = f'http://{base_url}:5000/drop'\n",
    "\n",
    "response = requests.post(url)\n",
    "print(response.text)"
   ]
  },
  {
   "cell_type": "markdown",
   "id": "392f639e",
   "metadata": {},
   "source": [
    "### **Load New Data**\n",
    "\n",
    "`/load` route used to generate embeddings with DeepSparse and load data into Milvus.\n",
    "\n",
    "The `/load` path accepts a `csv` file with `(title, text)` pairs. When called, this endpoint generates `embeddings` with DeepSparse on each `text` and inserts the `(id, embedding)` in Milvus and the `(id, title, text)`. Since we are generating embeddings for every element in the list, this may take a bit of time.\n",
    "\n",
    "There is an `example.csv` file available."
   ]
  },
  {
   "cell_type": "code",
   "execution_count": 6,
   "id": "f5c8f836",
   "metadata": {},
   "outputs": [
    {
     "name": "stdout",
     "output_type": "stream",
     "text": [
      "\"Successfully loaded data. Inference Time 4.723909034999906; DB Load Time 3.0950468900000487\"\n"
     ]
    }
   ],
   "source": [
    "url = f'http://{base_url}:5000/load'\n",
    "\n",
    "response = requests.post(url, files={\n",
    "    'file': open('example.csv', 'rb')\n",
    "})\n",
    "print(response.text)"
   ]
  },
  {
   "cell_type": "markdown",
   "id": "78389ce0",
   "metadata": {},
   "source": [
    "### **Check It Worked**\n",
    "\n",
    "`/count` route allows you to check the number of elements in the database. You should see 160 if you used the `example.csv` file."
   ]
  },
  {
   "cell_type": "code",
   "execution_count": 7,
   "id": "a0e23382",
   "metadata": {},
   "outputs": [
    {
     "name": "stdout",
     "output_type": "stream",
     "text": [
      "160\n"
     ]
    }
   ],
   "source": [
    "url = f'http://{base_url}:5000/count'\n",
    "\n",
    "response = requests.post(url)\n",
    "print(response.text)"
   ]
  },
  {
   "cell_type": "markdown",
   "id": "578e6e52",
   "metadata": {},
   "source": [
    "### **Search The Database**\n",
    "\n",
    "`/search` endpoint accepts a sentence over `GET`. Let's try 50 uploads to see what the responses and latency looks like."
   ]
  },
  {
   "cell_type": "code",
   "execution_count": 8,
   "id": "94d6534f",
   "metadata": {},
   "outputs": [
    {
     "name": "stdout",
     "output_type": "stream",
     "text": [
      "The United States has brokered a  cease-fire between a renegade Afghan militia leader and the  embattled governor of the western province of Herat,  Washington's envoy to Kabul said Tuesday.\n"
     ]
    }
   ],
   "source": [
    "sentence = \"The United States has brokered a  cease-fire between a renegade Afghan militia leader and the  embattled governor of the western province of Herat,  Washington's envoy to Kabul said Tuesday.\"\n",
    "print(sentence)"
   ]
  },
  {
   "cell_type": "code",
   "execution_count": 13,
   "id": "343ee35c",
   "metadata": {},
   "outputs": [],
   "source": [
    "import json\n",
    "for _ in range(50):\n",
    "    query_str = \"query_sentence=\" + sentence\n",
    "    url = f'http://{base_url}:5000/search'\n",
    "    response = json.loads(requests.get(url, query_str).text)"
   ]
  },
  {
   "cell_type": "markdown",
   "id": "8de9d77d",
   "metadata": {},
   "source": [
    "We can see that the responses include articles that are similiar to the baseline text."
   ]
  },
  {
   "cell_type": "code",
   "execution_count": 14,
   "id": "720c7177",
   "metadata": {},
   "outputs": [
    {
     "name": "stdout",
     "output_type": "stream",
     "text": [
      "U.S. Brokers Cease-fire in Western Afghanistan\n",
      "Afghan Army Dispatched to Calm Violence\n",
      "Delegates Urge Cleric to Pull Out of Najaf\n",
      "Delegation Is Delayed Before Reaching Najaf\n",
      "Karzai Promises Afghans Security for Election (Reuters)\n",
      "Georgian president calls for international conference on South Ossetia\n",
      "Fresh Fighting Shatters Short-Lived Ceasefire Deal\n",
      "Iran Warns Its Missiles Can Hit Anywhere in Israel\n",
      "Peace delegation leaves Najaf empty-handed as fighting continues\n"
     ]
    }
   ],
   "source": [
    "for idx in response:\n",
    "    print(response[idx]['title'])"
   ]
  },
  {
   "cell_type": "markdown",
   "id": "18098ac2",
   "metadata": {},
   "source": [
    "### **Check Latency**\n",
    "\n",
    "`/latency` endpoint checks the latency of recent calls. Calling the endpoint also clears old latency data."
   ]
  },
  {
   "cell_type": "code",
   "execution_count": 15,
   "id": "4a9ad6e9",
   "metadata": {},
   "outputs": [
    {
     "name": "stdout",
     "output_type": "stream",
     "text": [
      "{'count': 50, 'median': 99.72352400006912, 'mean': 99.62290793999728, 'std': 0.7136873781060545}\n"
     ]
    }
   ],
   "source": [
    "url = f'http://{base_url}:5000/latency'\n",
    "\n",
    "response = requests.post(url)\n",
    "print(json.loads(response.text))"
   ]
  }
 ],
 "metadata": {
  "kernelspec": {
   "display_name": "Python 3 (ipykernel)",
   "language": "python",
   "name": "python3"
  },
  "language_info": {
   "codemirror_mode": {
    "name": "ipython",
    "version": 3
   },
   "file_extension": ".py",
   "mimetype": "text/x-python",
   "name": "python",
   "nbconvert_exporter": "python",
   "pygments_lexer": "ipython3",
   "version": "3.8.10"
  }
 },
 "nbformat": 4,
 "nbformat_minor": 5
}
